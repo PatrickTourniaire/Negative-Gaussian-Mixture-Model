{
 "cells": [
  {
   "cell_type": "markdown",
   "id": "JrQfgI-elNez",
   "metadata": {
    "id": "JrQfgI-elNez"
   },
   "source": [
    "# Simple Gaussian Mixture Model\n",
    "\n",
    "This notebook explores how to fit a Gaussian Mixture Model to a dataset using the SGD optimiser. The code for this has been retreived from the following [source](https://www.kernel-operations.io/keops/_auto_tutorials/gaussian_mixture/plot_gaussian_mixture.html)."
   ]
  },
  {
   "cell_type": "code",
   "execution_count": 11,
   "id": "Uqha4TvLkgqo",
   "metadata": {
    "id": "Uqha4TvLkgqo"
   },
   "outputs": [],
   "source": [
    "import matplotlib.cm as cm\n",
    "import numpy as np\n",
    "import torch\n",
    "from matplotlib import pyplot as plt\n",
    "from torch.nn import Module\n",
    "from sklearn.datasets import make_blobs\n",
    "from torch.nn.functional import softmax, log_softmax\n",
    "\n",
    "from pykeops.torch import Vi, Vj, LazyTensor"
   ]
  },
  {
   "cell_type": "code",
   "execution_count": 12,
   "id": "4d81ea83",
   "metadata": {},
   "outputs": [],
   "source": [
    "features, clusters = make_blobs(n_samples = 100,\n",
    "                  n_features = 2, \n",
    "                  centers = 1,\n",
    "                  cluster_std = 0.4,\n",
    "                  shuffle = True)"
   ]
  },
  {
   "cell_type": "code",
   "execution_count": 13,
   "id": "EwyASBWdkhNR",
   "metadata": {
    "id": "EwyASBWdkhNR"
   },
   "outputs": [],
   "source": [
    "# Choose the storage place for our data : CPU (host) or GPU (device) memory.\n",
    "dtype = torch.cuda.FloatTensor if torch.cuda.is_available() else torch.FloatTensor\n",
    "torch.manual_seed(0)\n",
    "N = 10000  # Number of samples\n",
    "t = torch.linspace(0, 2 * np.pi, N + 1)[:-1]\n",
    "x = torch.stack((0.5 + 0.4 * (t / 7) * t.cos(), 0.5 + 0.3 * t.sin()), 1)\n",
    "x = x + 0.02 * torch.randn(x.shape)\n",
    "x = x.type(dtype)\n",
    "x.requires_grad = True"
   ]
  },
  {
   "cell_type": "code",
   "execution_count": 14,
   "id": "vOXq-8vQkjcg",
   "metadata": {
    "id": "vOXq-8vQkjcg"
   },
   "outputs": [],
   "source": [
    "# Create a uniform grid on the unit square:\n",
    "res = 200\n",
    "ticks = np.linspace(0, 1, res + 1)[:-1] + 0.5 / res\n",
    "X, Y = np.meshgrid(ticks, ticks)\n",
    "\n",
    "grid = torch.from_numpy(np.vstack((X.ravel(), Y.ravel())).T).contiguous().type(dtype)"
   ]
  },
  {
   "cell_type": "code",
   "execution_count": 15,
   "id": "CbXenRskkl04",
   "metadata": {
    "id": "CbXenRskkl04"
   },
   "outputs": [],
   "source": [
    "class GaussianMixture(Module):\n",
    "    def __init__(self, M, sparsity=0, D=2):\n",
    "        super(GaussianMixture, self).__init__()\n",
    "\n",
    "        self.params = {}\n",
    "        # We initialize our model with random blobs scattered across\n",
    "        # the unit square, with a small-ish radius:\n",
    "        self.mu = torch.rand(M, D).type(dtype)\n",
    "        self.A = 15 * torch.ones(M, 1, 1) * torch.eye(D, D).view(1, D, D)\n",
    "        self.A = (self.A).type(dtype).contiguous()\n",
    "        self.w = torch.ones(M, 1).type(dtype)\n",
    "        self.sparsity = sparsity\n",
    "        self.mu.requires_grad, self.A.requires_grad, self.w.requires_grad = (\n",
    "            True,\n",
    "            True,\n",
    "            True,\n",
    "        )\n",
    "\n",
    "    def update_covariances(self):\n",
    "        \"\"\"Computes the full covariance matrices from the model's parameters.\"\"\"\n",
    "        (M, D, _) = self.A.shape\n",
    "        self.params[\"gamma\"] = (torch.matmul(self.A, self.A.transpose(1, 2))).view(\n",
    "            M, D * D\n",
    "        ) / 2\n",
    "\n",
    "    def covariances_determinants(self):\n",
    "        \"\"\"Computes the determinants of the covariance matrices.\n",
    "\n",
    "        N.B.: PyTorch still doesn't support batched determinants, so we have to\n",
    "              implement this formula by hand.\n",
    "        \"\"\"\n",
    "        S = self.params[\"gamma\"]\n",
    "        if S.shape[1] == 2 * 2:\n",
    "            dets = S[:, 0] * S[:, 3] - S[:, 1] * S[:, 2]\n",
    "        else:\n",
    "            raise NotImplementedError\n",
    "        return dets.view(-1, 1)\n",
    "\n",
    "    def weights(self):\n",
    "        \"\"\"Scalar factor in front of the exponential, in the density formula.\"\"\"\n",
    "        return softmax(self.w, 0) * self.covariances_determinants().sqrt()\n",
    "\n",
    "    def weights_log(self):\n",
    "        \"\"\"Logarithm of the scalar factor, in front of the exponential.\"\"\"\n",
    "        return log_softmax(self.w, 0) + 0.5 * self.covariances_determinants().log()\n",
    "\n",
    "    def likelihoods(self, sample):\n",
    "        \"\"\"Samples the density on a given point cloud.\"\"\"\n",
    "        self.update_covariances()\n",
    "        return (\n",
    "            -Vi(sample).weightedsqdist(Vj(self.mu), Vj(self.params[\"gamma\"]))\n",
    "        ).exp() @ self.weights()\n",
    "\n",
    "    def log_likelihoods(self, sample):\n",
    "        \"\"\"Log-density, sampled on a given point cloud.\"\"\"\n",
    "        self.update_covariances()\n",
    "        K_ij = -Vi(sample).weightedsqdist(Vj(self.mu), Vj(self.params[\"gamma\"]))\n",
    "        return K_ij.logsumexp(dim=1, weight=Vj(self.weights()))\n",
    "\n",
    "    def neglog_likelihood(self, sample):\n",
    "        \"\"\"Returns -log(likelihood(sample)) up to an additive factor.\"\"\"\n",
    "        ll = self.log_likelihoods(sample)\n",
    "        log_likelihood = torch.mean(ll)\n",
    "        # N.B.: We add a custom sparsity prior, which promotes empty clusters\n",
    "        #       through a soft, concave penalization on the class weights.\n",
    "        return -log_likelihood + self.sparsity * softmax(self.w, 0).sqrt().mean()\n",
    "\n",
    "    def get_sample(self, N):\n",
    "        \"\"\"Generates a sample of N points.\"\"\"\n",
    "        raise NotImplementedError()\n",
    "\n",
    "    def plot(self, sample):\n",
    "        \"\"\"Displays the model.\"\"\"\n",
    "        plt.clf()\n",
    "        # Heatmap:\n",
    "        heatmap = self.likelihoods(grid)\n",
    "        heatmap = (\n",
    "            heatmap.view(res, res).data.cpu().numpy()\n",
    "        )  # reshape as a \"background\" image\n",
    "\n",
    "        scale = np.amax(np.abs(heatmap[:]))\n",
    "        plt.imshow(\n",
    "            -heatmap,\n",
    "            interpolation=\"bilinear\",\n",
    "            origin=\"lower\",\n",
    "            vmin=-scale,\n",
    "            vmax=scale,\n",
    "            cmap=cm.RdBu,\n",
    "            extent=(0, 1, 0, 1),\n",
    "        )\n",
    "\n",
    "        # Log-contours:\n",
    "        log_heatmap = self.log_likelihoods(grid)\n",
    "        log_heatmap = log_heatmap.view(res, res).data.cpu().numpy()\n",
    "\n",
    "        scale = np.amax(np.abs(log_heatmap[:]))\n",
    "        levels = np.linspace(-scale, scale, 41)\n",
    "\n",
    "        plt.contour(\n",
    "            log_heatmap,\n",
    "            origin=\"lower\",\n",
    "            linewidths=1.0,\n",
    "            colors=\"#C8A1A1\",\n",
    "            levels=levels,\n",
    "            extent=(0, 1, 0, 1),\n",
    "        )\n",
    "\n",
    "        # Scatter plot of the dataset:\n",
    "        xy = sample.data.cpu().numpy()\n",
    "        plt.scatter(xy[:, 0], xy[:, 1], 100 / len(xy), color=\"k\")"
   ]
  },
  {
   "cell_type": "code",
   "execution_count": 17,
   "id": "b85694QWkntS",
   "metadata": {
    "colab": {
     "base_uri": "https://localhost:8080/",
     "height": 1000
    },
    "id": "b85694QWkntS",
    "outputId": "99e84efa-9c9b-4fa3-8120-3aa026b7ac6a"
   },
   "outputs": [],
   "source": [
    "model = GaussianMixture(1, sparsity=20)\n",
    "optimizer = torch.optim.Adam([model.A, model.w, model.mu], lr=0.1)\n",
    "loss = np.zeros(100)\n",
    "\n",
    "for it in range(100):\n",
    "    optimizer.zero_grad()  # Reset the gradients (PyTorch syntax...).\n",
    "    cost = model.neglog_likelihood(torch.from_numpy(features.astype('float32')))  # Cost to minimize.\n",
    "    cost.backward()  # Backpropagate to compute the gradient.\n",
    "    optimizer.step()\n",
    "    loss[it] = cost.data.cpu().numpy()"
   ]
  },
  {
   "cell_type": "code",
   "execution_count": 18,
   "id": "C-nHY9LomW8m",
   "metadata": {
    "colab": {
     "base_uri": "https://localhost:8080/",
     "height": 297
    },
    "id": "C-nHY9LomW8m",
    "outputId": "8ebb00e3-6e21-4a4f-d371-e5585de92ecc"
   },
   "outputs": [
    {
     "data": {
      "image/png": "[encoded data removed]",
      "text/plain": [
       "<Figure size 640x480 with 1 Axes>"
      ]
     },
     "metadata": {},
     "output_type": "display_data"
    }
   ],
   "source": [
    "plt.figure()\n",
    "plt.plot(loss)\n",
    "plt.tight_layout()\n",
    "plt.show()"
   ]
  },
  {
   "cell_type": "code",
   "execution_count": 19,
   "id": "6f908b37",
   "metadata": {},
   "outputs": [
    {
     "data": {
      "text/plain": [
       "tensor([[ 3.5733, -5.1891]], requires_grad=True)"
      ]
     },
     "execution_count": 19,
     "metadata": {},
     "output_type": "execute_result"
    }
   ],
   "source": [
    "model.mu"
   ]
  },
  {
   "cell_type": "code",
   "execution_count": 20,
   "id": "cc1c25bc",
   "metadata": {},
   "outputs": [
    {
     "data": {
      "text/plain": [
       "tensor([[67.3459, 50.7717, 50.7717, 55.1427]], grad_fn=<DivBackward0>)"
      ]
     },
     "execution_count": 20,
     "metadata": {},
     "output_type": "execute_result"
    }
   ],
   "source": [
    "model.params['gamma']"
   ]
  },
  {
   "cell_type": "code",
   "execution_count": 22,
   "id": "a8c7c08a",
   "metadata": {},
   "outputs": [
    {
     "data": {
      "image/png": "[encoded data removed]",
      "text/plain": [
       "<Figure size 640x480 with 1 Axes>"
      ]
     },
     "metadata": {},
     "output_type": "display_data"
    }
   ],
   "source": [
    "plt.scatter(features[:,0], features[:,1])\n",
    "plt.show()"
   ]
  },
  {
   "cell_type": "code",
   "execution_count": null,
   "id": "e42f0eff",
   "metadata": {},
   "outputs": [],
   "source": []
  },
  {
   "cell_type": "code",
   "execution_count": null,
   "id": "b2f80bb2",
   "metadata": {},
   "outputs": [],
   "source": []
  }
 ],
 "metadata": {
  "colab": {
   "provenance": []
  },
  "gpuClass": "standard",
  "kernelspec": {
   "display_name": "Python 3 (ipykernel)",
   "language": "python",
   "name": "python3"
  },
  "language_info": {
   "codemirror_mode": {
    "name": "ipython",
    "version": 3
   },
   "file_extension": ".py",
   "mimetype": "text/x-python",
   "name": "python",
   "nbconvert_exporter": "python",
   "pygments_lexer": "ipython3",
   "version": "3.10.8"
  }
 },
 "nbformat": 4,
 "nbformat_minor": 5
}
