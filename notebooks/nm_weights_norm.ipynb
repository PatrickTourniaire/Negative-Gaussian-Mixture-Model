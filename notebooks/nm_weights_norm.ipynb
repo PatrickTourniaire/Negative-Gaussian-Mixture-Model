{
 "cells": [
  {
   "cell_type": "markdown",
   "id": "ace7de21",
   "metadata": {},
   "source": [
    "If some of the weights are negative and you want to maintain their sign while normalizing the weights to sum to 1, you can use the following approach:\n",
    "\n",
    "Let w_i be the original weights, and let w_i_pos and w_i_neg be the positive and negative parts of w_i, respectively, defined as:\n",
    "\n",
    "w_i_pos = max(w_i, 0)\n",
    "w_i_neg = -min(w_i, 0)\n",
    "\n",
    "Then the sum of the positive and negative parts will always be equal to the absolute value of w_i: w_i_pos + w_i_neg = |w_i|.\n",
    "\n",
    "Next, you can normalize the positive and negative parts separately:\n",
    "\n",
    "w_i_pos_norm = w_i_pos / (sum(w_i_pos) + sum(w_i_neg))\n",
    "w_i_neg_norm = w_i_neg / (sum(w_i_pos) + sum(w_i_neg))\n",
    "\n",
    "Finally, you can combine the normalized positive and negative parts to obtain the normalized weights:\n",
    "\n",
    "w_i_norm = w_i_pos_norm - w_i_neg_norm\n",
    "\n",
    "The sum of the normalized weights will be equal to 1: sum(w_i_norm) = 1, and the sign of the weights will be preserved."
   ]
  },
  {
   "cell_type": "code",
   "execution_count": 3,
   "id": "d6e0d0b8",
   "metadata": {},
   "outputs": [
    {
     "name": "stderr",
     "output_type": "stream",
     "text": [
      "/Users/patricktourniaire/opt/miniconda3/envs/nmmm/lib/python3.10/site-packages/tqdm/auto.py:22: TqdmWarning: IProgress not found. Please update jupyter and ipywidgets. See https://ipywidgets.readthedocs.io/en/stable/user_install.html\n",
      "  from .autonotebook import tqdm as notebook_tqdm\n"
     ]
    }
   ],
   "source": [
    "import torch"
   ]
  },
  {
   "cell_type": "code",
   "execution_count": 29,
   "id": "db6f2d9c",
   "metadata": {},
   "outputs": [],
   "source": [
    "def normalize_weights(weights):\n",
    "    weights_pos = torch.max(weights, torch.zeros_like(weights))\n",
    "    weights_neg = -torch.min(weights, torch.zeros_like(weights))\n",
    "    \n",
    "    sum_pos = torch.sum(weights_pos)\n",
    "    sum_neg = torch.sum(weights_neg)\n",
    "    \n",
    "    weights_pos_norm = weights_pos / (sum_pos + sum_neg)\n",
    "    weights_neg_norm = weights_neg / (sum_pos + sum_neg)\n",
    "    \n",
    "    weights_norm = weights_pos_norm - weights_neg_norm\n",
    "    \n",
    "    return weights_norm / torch.sum(weights_norm)"
   ]
  },
  {
   "cell_type": "code",
   "execution_count": 30,
   "id": "5dd72cfa",
   "metadata": {},
   "outputs": [
    {
     "name": "stdout",
     "output_type": "stream",
     "text": [
      "tensor([-0.1111,  1.1111,  5.5556, -5.5556])\n"
     ]
    },
    {
     "data": {
      "text/plain": [
       "tensor(1.0000)"
      ]
     },
     "execution_count": 30,
     "metadata": {},
     "output_type": "execute_result"
    }
   ],
   "source": [
    "w = torch.Tensor([-2, 20, 100, -100])\n",
    "\n",
    "print(normalize_weights(w))\n",
    "torch.sum(normalize_weights(w))"
   ]
  },
  {
   "cell_type": "code",
   "execution_count": null,
   "id": "037fdcb2",
   "metadata": {},
   "outputs": [],
   "source": []
  }
 ],
 "metadata": {
  "kernelspec": {
   "display_name": "Python [conda env:nmmm] *",
   "language": "python",
   "name": "conda-env-nmmm-py"
  },
  "language_info": {
   "codemirror_mode": {
    "name": "ipython",
    "version": 3
   },
   "file_extension": ".py",
   "mimetype": "text/x-python",
   "name": "python",
   "nbconvert_exporter": "python",
   "pygments_lexer": "ipython3",
   "version": "3.10.8"
  }
 },
 "nbformat": 4,
 "nbformat_minor": 5
}
