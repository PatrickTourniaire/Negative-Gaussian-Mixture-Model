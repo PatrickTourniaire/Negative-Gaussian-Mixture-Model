{
 "cells": [
  {
   "cell_type": "code",
   "execution_count": 1,
   "id": "230a625b",
   "metadata": {},
   "outputs": [
    {
     "name": "stderr",
     "output_type": "stream",
     "text": [
      "/Users/patricktourniaire/opt/miniconda3/envs/nmmm/lib/python3.10/site-packages/tqdm/auto.py:22: TqdmWarning: IProgress not found. Please update jupyter and ipywidgets. See https://ipywidgets.readthedocs.io/en/stable/user_install.html\n",
      "  from .autonotebook import tqdm as notebook_tqdm\n"
     ]
    }
   ],
   "source": [
    "from scipy.spatial import distance\n",
    "import pickle\n",
    "import torch\n",
    "from torch import linalg\n",
    "import numpy as np\n",
    "from scipy.linalg import cho_solve"
   ]
  },
  {
   "cell_type": "code",
   "execution_count": 2,
   "id": "142959af",
   "metadata": {},
   "outputs": [],
   "source": [
    "def load_object(repo: str, file: str):\n",
    "    # Path constant to save the object\n",
    "    PATH = f'{repo}/{file}.pkl'\n",
    "\n",
    "    with open(PATH, 'rb') as f:\n",
    "        return pickle.load(f)"
   ]
  },
  {
   "cell_type": "code",
   "execution_count": 3,
   "id": "69348109",
   "metadata": {},
   "outputs": [],
   "source": [
    "features = load_object('../../data/train', 'donut')\n",
    "features = torch.from_numpy(features)"
   ]
  },
  {
   "cell_type": "code",
   "execution_count": 4,
   "id": "8ff2f7d9",
   "metadata": {},
   "outputs": [
    {
     "name": "stdout",
     "output_type": "stream",
     "text": [
      "tensor([[ 4.8302,  1.7729],\n",
      "        [-3.0147,  3.6299],\n",
      "        [-2.7704, -4.4909],\n",
      "        ...,\n",
      "        [-3.2588,  3.8029],\n",
      "        [-4.8496,  2.3319],\n",
      "        [ 3.7889,  3.3190]], dtype=torch.float64)\n",
      "torch.Size([1000, 2])\n",
      "tensor([[ 4.8302, -3.0147, -2.7704,  ..., -3.2588, -4.8496,  3.7889],\n",
      "        [ 1.7729,  3.6299, -4.4909,  ...,  3.8029,  2.3319,  3.3190]],\n",
      "       dtype=torch.float64)\n",
      "tensor([[ 4.8302, -3.0147, -2.7704,  ..., -3.2588, -4.8496,  3.7889],\n",
      "        [ 1.7729,  3.6299, -4.4909,  ...,  3.8029,  2.3319,  3.3190]],\n",
      "       dtype=torch.float64)\n"
     ]
    }
   ],
   "source": [
    "print(features)\n",
    "print(features.shape)\n",
    "reshaped_feats = features.t() #torch.reshape(features, (2, 1000))\n",
    "print(reshaped_feats)\n",
    "print(features.t())"
   ]
  },
  {
   "cell_type": "code",
   "execution_count": 133,
   "id": "61702ca3",
   "metadata": {},
   "outputs": [
    {
     "name": "stdout",
     "output_type": "stream",
     "text": [
      "tensor([[1.8112, 0.0000],\n",
      "        [0.5413, 1.1104]], dtype=torch.float64)\n"
     ]
    }
   ],
   "source": [
    "means = torch.zeros(2, dtype=torch.float64).normal_()\n",
    "sigma = torch.zeros(2, 2, dtype=torch.float64).normal_()\n",
    "L = torch.linalg.cholesky(sigma @ sigma.t() + torch.eye(2))\n",
    "print(L)"
   ]
  },
  {
   "cell_type": "code",
   "execution_count": 147,
   "id": "56113fa9",
   "metadata": {},
   "outputs": [
    {
     "data": {
      "text/plain": [
       "tensor([[3.2803, 0.0000],\n",
       "        [0.0000, 1.2329]], dtype=torch.float64)"
      ]
     },
     "execution_count": 147,
     "metadata": {},
     "output_type": "execute_result"
    }
   ],
   "source": [
    "torch.diag(torch.diag(L)) @ torch.diag(torch.diag(L)).t()"
   ]
  },
  {
   "cell_type": "code",
   "execution_count": 143,
   "id": "91322832",
   "metadata": {},
   "outputs": [
    {
     "data": {
      "text/plain": [
       "tensor([-1.5071, -0.2819], dtype=torch.float64)"
      ]
     },
     "execution_count": 143,
     "metadata": {},
     "output_type": "execute_result"
    }
   ],
   "source": [
    "torch.diag(sigma)"
   ]
  },
  {
   "cell_type": "code",
   "execution_count": 72,
   "id": "ad4d22e3",
   "metadata": {},
   "outputs": [
    {
     "name": "stdout",
     "output_type": "stream",
     "text": [
      "tensor([[0.7870, 0.0000],\n",
      "        [0.0178, 1.1794]], dtype=torch.float64)\n"
     ]
    }
   ],
   "source": [
    "a = torch.linalg.cholesky(torch.tril(sigma) @ torch.tril(sigma).t())\n",
    "\n",
    "print(a)"
   ]
  },
  {
   "cell_type": "code",
   "execution_count": 117,
   "id": "6369230a",
   "metadata": {},
   "outputs": [],
   "source": [
    "A = 15 * torch.ones(2, 1, 1) * torch.eye(2, 2).view(1, 2, 2)\n",
    "A = (A).type(torch.FloatTensor)"
   ]
  },
  {
   "cell_type": "code",
   "execution_count": 132,
   "id": "9f62e5a9",
   "metadata": {},
   "outputs": [
    {
     "data": {
      "text/plain": [
       "tensor([[ 0.7870,  0.0000],\n",
       "        [ 0.0000, -1.2324]], dtype=torch.float64)"
      ]
     },
     "execution_count": 132,
     "metadata": {},
     "output_type": "execute_result"
    }
   ],
   "source": [
    "torch.tril(torch.diag(sigma[0][:2]))"
   ]
  },
  {
   "cell_type": "code",
   "execution_count": 125,
   "id": "c0ad48f6",
   "metadata": {},
   "outputs": [
    {
     "data": {
      "text/plain": [
       "tensor([15., 15.])"
      ]
     },
     "execution_count": 125,
     "metadata": {},
     "output_type": "execute_result"
    }
   ],
   "source": [
    "torch.diag(A[0]).reshape(2)"
   ]
  },
  {
   "cell_type": "code",
   "execution_count": 85,
   "id": "57c778ac",
   "metadata": {},
   "outputs": [
    {
     "data": {
      "text/plain": [
       "tensor([[112.5000,   0.0000,   0.0000, 112.5000],\n",
       "        [112.5000,   0.0000,   0.0000, 112.5000]])"
      ]
     },
     "execution_count": 85,
     "metadata": {},
     "output_type": "execute_result"
    }
   ],
   "source": [
    "(torch.matmul(A, A.transpose(1, 2))).view(\n",
    "            2, 2 * 2\n",
    "        ) / 2"
   ]
  },
  {
   "cell_type": "code",
   "execution_count": 109,
   "id": "87fd8f06",
   "metadata": {},
   "outputs": [
    {
     "name": "stdout",
     "output_type": "stream",
     "text": [
      "tensor([[[15.,  0.],\n",
      "         [ 0., 15.]],\n",
      "\n",
      "        [[15.,  0.],\n",
      "         [ 0., 15.]],\n",
      "\n",
      "        [[15.,  0.],\n",
      "         [ 0., 15.]]])\n",
      "tensor([[[15.,  0.],\n",
      "         [ 0., 15.]],\n",
      "\n",
      "        [[15.,  0.],\n",
      "         [ 0., 15.]],\n",
      "\n",
      "        [[15.,  0.],\n",
      "         [ 0., 15.]]])\n"
     ]
    }
   ],
   "source": [
    "A = 15 * torch.ones(3, 1, 1) * torch.eye(2, 2).view(1, 2, 2)\n",
    "A = (A).type(torch.FloatTensor).contiguous()\n",
    "print(torch.tril(A))\n",
    "print(A)"
   ]
  },
  {
   "cell_type": "code",
   "execution_count": 90,
   "id": "bc01629d",
   "metadata": {},
   "outputs": [
    {
     "data": {
      "text/plain": [
       "tensor([[15.,  0.],\n",
       "        [ 0., 15.]])"
      ]
     },
     "execution_count": 90,
     "metadata": {},
     "output_type": "execute_result"
    }
   ],
   "source": [
    "L"
   ]
  },
  {
   "cell_type": "code",
   "execution_count": 91,
   "id": "7e3909b5",
   "metadata": {},
   "outputs": [
    {
     "data": {
      "text/plain": [
       "tensor([[225.,   0.],\n",
       "        [  0., 225.]])"
      ]
     },
     "execution_count": 91,
     "metadata": {},
     "output_type": "execute_result"
    }
   ],
   "source": [
    "S"
   ]
  }
 ],
 "metadata": {
  "kernelspec": {
   "display_name": "Python [conda env:nmmm] *",
   "language": "python",
   "name": "conda-env-nmmm-py"
  },
  "language_info": {
   "codemirror_mode": {
    "name": "ipython",
    "version": 3
   },
   "file_extension": ".py",
   "mimetype": "text/x-python",
   "name": "python",
   "nbconvert_exporter": "python",
   "pygments_lexer": "ipython3",
   "version": "3.10.8"
  }
 },
 "nbformat": 4,
 "nbformat_minor": 5
}
