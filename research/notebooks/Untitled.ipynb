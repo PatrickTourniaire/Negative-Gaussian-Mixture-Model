{
 "cells": [
  {
   "cell_type": "code",
   "execution_count": 12,
   "id": "da7cbc9f",
   "metadata": {},
   "outputs": [],
   "source": [
    "%matplotlib inline\n",
    "import matplotlib.pyplot as plt\n",
    "import numpy as np\n",
    "import matplotlib.patches as mpatches\n",
    "from itertools import repeat\n",
    "from scipy.spatial import distance\n",
    "import pickle\n",
    "import torch\n",
    "from torch import linalg\n",
    "import numpy as np\n",
    "from scipy.linalg import cho_solve"
   ]
  },
  {
   "cell_type": "code",
   "execution_count": 3,
   "id": "f7334a9f",
   "metadata": {},
   "outputs": [],
   "source": [
    "def load_object(repo: str, file: str):\n",
    "    # Path constant to save the object\n",
    "    PATH = f'{repo}/{file}.pkl'\n",
    "\n",
    "    with open(PATH, 'rb') as f:\n",
    "        return pickle.load(f)\n",
    "\n",
    "features = load_object('../../data/train', 'donut')\n",
    "features = torch.from_numpy(features)"
   ]
  },
  {
   "cell_type": "code",
   "execution_count": 7,
   "id": "74e1403d",
   "metadata": {},
   "outputs": [],
   "source": [
    "C = 300\n",
    "D = 2\n",
    "\n",
    "means = torch.zeros(C, D, dtype=torch.float64).normal_(0, 0.5)"
   ]
  },
  {
   "cell_type": "code",
   "execution_count": 62,
   "id": "e96fa00e",
   "metadata": {},
   "outputs": [],
   "source": [
    "L = torch.normal(1, 1, size=(C, 1, 1)) * torch.eye(D, D).view(1, D, D)\n",
    "sigmas = (L).type(torch.float64).contiguous()"
   ]
  },
  {
   "cell_type": "code",
   "execution_count": 63,
   "id": "c95b23b0",
   "metadata": {},
   "outputs": [],
   "source": [
    "def _sqrd_params(Si, Sj, mui, muj) -> torch.Tensor:\n",
    "        # Compute the squared Gaussian params\n",
    "        sigma = torch.inverse(Si + Sj)\n",
    "        mu = sigma @ (Si @ mui + Sj @ muj)\n",
    "\n",
    "        return (sigma, mu)\n",
    "\n",
    "cluster_ids = torch.Tensor(range(C))\n",
    "cartesian_ids = torch.cartesian_prod(cluster_ids, cluster_ids)\n",
    "cartesian_ids = cartesian_ids.data.cpu().numpy().astype(int)\n",
    "\n",
    "recomputed_params = {\n",
    "    'means': [],\n",
    "    'sigmas': []\n",
    "}\n",
    "\n",
    "for (i, j) in cartesian_ids:\n",
    "    Si = torch.tril(sigmas[i]) @ torch.tril(sigmas[i]).t()\n",
    "    Sj = torch.tril(sigmas[j]) @ torch.tril(sigmas[j]).t()\n",
    "    \n",
    "    sigma, mean = _sqrd_params(Si, Sj, means[i], means[j])\n",
    "    \n",
    "    recomputed_params['sigmas'].append(sigma.data.cpu().numpy())\n",
    "    recomputed_params['means'].append(mean.data.cpu().numpy())"
   ]
  },
  {
   "cell_type": "code",
   "execution_count": 64,
   "id": "3551dea6",
   "metadata": {},
   "outputs": [],
   "source": [
    "sqrd_gen_variance = []\n",
    "gen_variance = []\n",
    "\n",
    "for i in range(C):\n",
    "    S_sqrd = recomputed_params['sigmas'][i]\n",
    "    sqrd_gen_variance.append(np.linalg.det(S_sqrd))\n",
    "    \n",
    "    S = torch.tril(sigmas[i]) @ torch.tril(sigmas[i]).t()\n",
    "    S = S.data.cpu().numpy()\n",
    "    \n",
    "    gen_variance.append(np.linalg.det(S))\n",
    "\n",
    "sqrd_gen_variance = np.array(sqrd_gen_variance)\n",
    "gen_variance = np.array(gen_variance)"
   ]
  },
  {
   "cell_type": "code",
   "execution_count": 65,
   "id": "0ddcd033",
   "metadata": {},
   "outputs": [
    {
     "name": "stdout",
     "output_type": "stream",
     "text": [
      "[<matplotlib.patches.Patch object at 0x7faaec9e8ca0>, <matplotlib.patches.Patch object at 0x7faaec9e8ca0>]\n"
     ]
    },
    {
     "data": {
      "text/plain": [
       "<Figure size 640x480 with 0 Axes>"
      ]
     },
     "metadata": {},
     "output_type": "display_data"
    },
    {
     "data": {
      "image/png": "[encoded data removed]",
      "text/plain": [
       "<Figure size 800x600 with 1 Axes>"
      ]
     },
     "metadata": {},
     "output_type": "display_data"
    },
    {
     "data": {
      "text/plain": [
       "<Figure size 640x480 with 0 Axes>"
      ]
     },
     "metadata": {},
     "output_type": "display_data"
    }
   ],
   "source": [
    "fig = plt.figure()\n",
    "\n",
    "# Create an axes instance\n",
    "fig, ax = plt.subplots(figsize=(8,6))\n",
    "ax.set_yticks([], [])\n",
    "\n",
    "ax.set_title('2D Generalised Variance')\n",
    "ax.set_xlabel('Generalised variance (Sigma determinant)')\n",
    "\n",
    "\n",
    "red_patch = mpatches.Patch(color='red')\n",
    "# 'fake' invisible object\n",
    "\n",
    "pos   = [1, 2]\n",
    "label = ['GMM covar. determinants','NMGMM covar. determinants']\n",
    "\n",
    "fake_handles = repeat(red_patch, len(pos))\n",
    "print(list(fake_handles))\n",
    "\n",
    "# Create the boxplot\n",
    "violin_parts = ax.violinplot([gen_variance, sqrd_gen_variance], vert=False)\n",
    "violin_parts['bodies'][1].set_facecolor('red')\n",
    "violin_parts['bodies'][1].set_edgecolor('red')\n",
    "\n",
    "\n",
    "ax.legend([mpatches.Patch(color='blue'), mpatches.Patch(color='red')], label)\n",
    "\n",
    "plt.show()\n",
    "plt.draw()\n",
    "fig.savefig('generalised_variance.png')"
   ]
  },
  {
   "cell_type": "code",
   "execution_count": null,
   "id": "ab2ef3ff",
   "metadata": {},
   "outputs": [],
   "source": []
  }
 ],
 "metadata": {
  "kernelspec": {
   "display_name": "Python [conda env:nmmm] *",
   "language": "python",
   "name": "conda-env-nmmm-py"
  },
  "language_info": {
   "codemirror_mode": {
    "name": "ipython",
    "version": 3
   },
   "file_extension": ".py",
   "mimetype": "text/x-python",
   "name": "python",
   "nbconvert_exporter": "python",
   "pygments_lexer": "ipython3",
   "version": "3.10.8"
  }
 },
 "nbformat": 4,
 "nbformat_minor": 5
}
